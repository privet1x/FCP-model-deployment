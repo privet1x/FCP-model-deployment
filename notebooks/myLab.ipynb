{
 "cells": [
  {
   "cell_type": "code",
   "execution_count": null,
   "id": "0b39c9c2-03ab-447f-ba5c-863d5c3901c3",
   "metadata": {},
   "outputs": [],
   "source": [
    "import pandas as pd\n",
    "import numpy as np\n",
    "import matplotlib.pyplot as plt\n",
    "import seaborn as sns\n",
    "from sklearn.model_selection import train_test_split\n",
    "from sklearn.preprocessing import StandardScaler\n",
    "from sklearn.linear_model import LogisticRegression\n",
    "from sklearn.metrics import confusion_matrix"
   ]
  },
  {
   "cell_type": "code",
   "execution_count": null,
   "id": "06127ec8-b6e5-486f-959f-cee351d21103",
   "metadata": {},
   "outputs": [],
   "source": [
    "data = pd.read_csv('../data/dataset.csv', header=None)\n",
    "data.columns = ['var', 'skew', 'curt', 'entr', 'auth']\n",
    "print(data.head())"
   ]
  },
  {
   "cell_type": "code",
   "execution_count": null,
   "id": "74de121d-a891-4b95-9a10-31d4c8f48370",
   "metadata": {},
   "outputs": [],
   "source": [
    "print(data.info)"
   ]
  },
  {
   "cell_type": "code",
   "execution_count": null,
   "id": "d0c3ae45-e909-45fd-9c34-d112f34edaf4",
   "metadata": {},
   "outputs": [],
   "source": [
    "sns.pairplot(data, hue='auth')\n",
    "plt.show()"
   ]
  },
  {
   "cell_type": "code",
   "execution_count": null,
   "id": "f33bb459-79f6-44d8-b182-9aa2f8d1993c",
   "metadata": {},
   "outputs": [],
   "source": [
    "plt.figure(figsize=(8, 6))\n",
    "plt.title('Distribution of Target', size=18)\n",
    "sns.countplot(x=data['auth'])\n",
    "target_count = data.auth.value_counts()\n",
    "plt.annotate(text=str(target_count[0]), xy=(-0.04, 10 + target_count[0]), size=14)\n",
    "plt.annotate(text=str(target_count[1]), xy=(0.96, 10 + target_count[1]), size=14)\n",
    "plt.ylim(0, 900)\n",
    "plt.show()"
   ]
  },
  {
   "cell_type": "code",
   "execution_count": null,
   "id": "b485d5a4-f1e5-4e7d-b0b5-44abca623f1b",
   "metadata": {},
   "outputs": [],
   "source": [
    "nb_to_delete = target_count[0] - target_count[1]\n",
    "data = data.sample(frac=1, random_state=42).sort_values(by='auth')\n",
    "data = data[nb_to_delete:]\n",
    "print(data['auth'].value_counts())"
   ]
  },
  {
   "cell_type": "code",
   "execution_count": null,
   "id": "b9207263-c575-4c2e-8689-dd26f20cd431",
   "metadata": {},
   "outputs": [],
   "source": [
    "x = data.loc[:, data.columns != 'auth']\n",
    "y = data.loc[:, data.columns == 'auth']\n",
    "x_train, x_test, y_train, y_test = train_test_split(x, y, test_size=0.3, random_state=42)"
   ]
  },
  {
   "cell_type": "code",
   "execution_count": null,
   "id": "1d2b4479-aad6-4a04-b8a6-b809bd558cae",
   "metadata": {},
   "outputs": [],
   "source": [
    "scalar = StandardScaler()\n",
    "scalar.fit(x_train)\n",
    "x_train = scalar.transform(x_train)\n",
    "x_test = scalar.transform(x_test)"
   ]
  },
  {
   "cell_type": "code",
   "execution_count": null,
   "id": "bc2c99a4-68de-4704-adb2-dd9cbb8c6c88",
   "metadata": {},
   "outputs": [],
   "source": [
    "clf = LogisticRegression(solver='lbfgs', random_state=42, multi_class='auto')\n",
    "clf.fit(x_train, y_train.values.ravel())"
   ]
  },
  {
   "cell_type": "code",
   "execution_count": null,
   "id": "826a772b-68e8-4c36-a3f6-8b44c3ebd028",
   "metadata": {},
   "outputs": [],
   "source": [
    "y_pred = np.array(clf.predict(x_test))\n",
    "conf_mat = pd.DataFrame(confusion_matrix(y_test, y_pred),\n",
    "                        columns=[\"Pred.Negative\", \"Pred.Positive\"],\n",
    "                        index=['Act.Negative', \"Act.Positive\"])\n",
    "tn, fp, fn, tp = confusion_matrix(y_test, y_pred).ravel()\n",
    "accuracy = round((tn+tp)/(tn+fp+fn+tp), 4)\n",
    "print(conf_mat)\n",
    "print(f'\\n Accuracy = {round(100*accuracy, 2)}%')"
   ]
  },
  {
   "cell_type": "code",
   "execution_count": null,
   "id": "801be36f-dbd4-4f2a-be09-6b2259d46fb8",
   "metadata": {},
   "outputs": [],
   "source": [
    "new_banknote = np.array([4.5, -8.1, 2.4, 1.4], ndmin=2)\n",
    "new_banknote = scalar.transform(new_banknote)\n",
    "print(f'Prediction:  Class{clf.predict(new_banknote)[0]}')\n",
    "print(f'Probability [0/1]:  {clf.predict_proba(new_banknote)[0]}')"
   ]
  }
 ],
 "metadata": {
  "kernelspec": {
   "display_name": "Python 3 (ipykernel)",
   "language": "python",
   "name": "python3"
  },
  "language_info": {
   "codemirror_mode": {
    "name": "ipython",
    "version": 3
   },
   "file_extension": ".py",
   "mimetype": "text/x-python",
   "name": "python",
   "nbconvert_exporter": "python",
   "pygments_lexer": "ipython3",
   "version": "3.13.0"
  }
 },
 "nbformat": 4,
 "nbformat_minor": 5
}
